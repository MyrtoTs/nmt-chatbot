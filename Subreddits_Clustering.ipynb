{
 "cells": [
  {
   "cell_type": "code",
   "execution_count": 1,
   "metadata": {},
   "outputs": [],
   "source": [
    "import pandas as pd\n",
    "import numpy as np\n",
    "import re\n",
    "from scipy.cluster import hierarchy as hac\n",
    "import matplotlib.pyplot as plt"
   ]
  },
  {
   "cell_type": "code",
   "execution_count": 2,
   "metadata": {},
   "outputs": [
    {
     "name": "stdout",
     "output_type": "stream",
     "text": [
      "30531310\n",
      "(30531310, 1)\n"
     ]
    }
   ],
   "source": [
    "with open('data.tsv', 'r', 100000000) as t:\n",
    "    lines = t.read().splitlines()\n",
    "    \n",
    "print(len(lines))\n",
    "\n",
    "dt = pd.DataFrame(lines)\n",
    "print(dt.shape)"
   ]
  },
  {
   "cell_type": "code",
   "execution_count": 3,
   "metadata": {},
   "outputs": [],
   "source": [
    "# data = pd.read_table('data.tsv', sep='\\n', header = None)\n",
    "# print(data)\n",
    "labels = pd.read_table('labels.tsv', header = None, error_bad_lines = False)\n",
    "# print(labels)\n",
    "full_data = pd.concat([dt,labels], axis = 1)\n",
    "full_data.columns =['Data','Labels']"
   ]
  },
  {
   "cell_type": "code",
   "execution_count": 4,
   "metadata": {},
   "outputs": [
    {
     "name": "stdout",
     "output_type": "stream",
     "text": [
      "15003\n"
     ]
    }
   ],
   "source": [
    "voc_dict = {}\n",
    "voc_dict_inv = {}\n",
    "i = 0\n",
    "with open('vocab.bpe.from','r') as f:\n",
    "    keys = f.read().splitlines()\n",
    "    for key in keys:\n",
    "        if i>2 :\n",
    "            voc_dict[i-3] = key\n",
    "            voc_dict_inv[key] = i-3            \n",
    "#             print(key)\n",
    "        i+=1\n",
    "print(i)"
   ]
  },
  {
   "cell_type": "code",
   "execution_count": 5,
   "metadata": {},
   "outputs": [
    {
     "name": "stdout",
     "output_type": "stream",
     "text": [
      "33103\n"
     ]
    }
   ],
   "source": [
    "with open('labels.tsv','r') as l:\n",
    "    ls = l.read().splitlines()\n",
    "    label_names = list(set(ls))\n",
    "        \n",
    "# print(label_names)\n",
    "\n",
    "labels_dict = {}\n",
    "labels_dict_inv = {}\n",
    "for i, label_name in enumerate(label_names):\n",
    "    labels_dict[i] = label_name\n",
    "    labels_dict_inv[label_name] = i\n",
    "\n",
    "print(len(labels_dict))\n",
    "# print(labels_dict_inv)"
   ]
  },
  {
   "cell_type": "code",
   "execution_count": 6,
   "metadata": {},
   "outputs": [],
   "source": [
    "subredditsXvocwords = np.zeros([33103,15000])"
   ]
  },
  {
   "cell_type": "code",
   "execution_count": 7,
   "metadata": {},
   "outputs": [
    {
     "name": "stdout",
     "output_type": "stream",
     "text": [
      "4323341\n",
      "6997534\n",
      "7689725\n",
      "9673259\n",
      "17197799\n",
      "28094605\n",
      "30531309\n"
     ]
    }
   ],
   "source": [
    "for i, (comment, label) in enumerate(zip(lines,ls)):\n",
    "    words = comment.split(' ')\n",
    "    for w in words:\n",
    "        if w =='':\n",
    "            print(i)\n",
    "        else:\n",
    "            subredditsXvocwords[labels_dict_inv[label], voc_dict_inv[w]] += 1\n",
    "print(i)"
   ]
  },
  {
   "cell_type": "markdown",
   "metadata": {},
   "source": [
    "# Tfidf"
   ]
  },
  {
   "cell_type": "code",
   "execution_count": 9,
   "metadata": {},
   "outputs": [
    {
     "name": "stdout",
     "output_type": "stream",
     "text": [
      "Συνηθισμένος πίνακας tfidf : term - document(subreddit)\n",
      "(15000, 33103)\n"
     ]
    }
   ],
   "source": [
    "total_number_of_documents = 33103\n",
    "vocwordsXsubreddits = np.transpose(subredditsXvocwords)\n",
    "words_per_subreddit = np.sum(vocwordsXsubreddits, axis = 0)\n",
    "tf = vocwordsXsubreddits/words_per_subreddit\n",
    "subreddits_per_word = np.count_nonzero(vocwordsXsubreddits, axis = 1)\n",
    "idf = subreddits_per_word/total_number_of_documents\n",
    "tf_idf = np.transpose(tf)*np.transpose(idf) #\n",
    "tf_idf = np.transpose(tf_idf)\n",
    "print('Συνηθισμένος πίνακας tfidf : term - document(subreddit)')\n",
    "print(tf_idf.shape)"
   ]
  },
  {
   "cell_type": "markdown",
   "metadata": {},
   "source": [
    "# Clustering & δενδρόγραμμα με μερικά subreddits"
   ]
  },
  {
   "cell_type": "code",
   "execution_count": 11,
   "metadata": {},
   "outputs": [
    {
     "data": {
      "image/png": "[encoded data removed]",
      "text/plain": [
       "<Figure size 1656x720 with 1 Axes>"
      ]
     },
     "metadata": {},
     "output_type": "display_data"
    }
   ],
   "source": [
    "subreddits4submatrix = ['AskMen', 'StarWars', 'AskReddit', 'DestinyTheGame', 'Games', 'funny', 'nba', 'news', 'politics',\n",
    "                        'technology', 'television', 'todayilearned', 'worldnews', 'MMA', 'The_Donald' ]\n",
    "obs_per_subreddit = np.zeros([15,15000])\n",
    "t = np.transpose(tf_idf)\n",
    "for j, s in enumerate(subreddits4submatrix):\n",
    "    obs_per_subreddit[j,:] = t[labels_dict_inv[s],:]\n",
    "    \n",
    "z = hac.linkage(obs_per_subreddit, method = 'average')\n",
    "\n",
    "plt.figure(figsize=(23, 10))\n",
    "d = hac.dendrogram(z, labels = subreddits4submatrix)"
   ]
  },
  {
   "cell_type": "code",
   "execution_count": null,
   "metadata": {},
   "outputs": [],
   "source": []
  }
 ],
 "metadata": {
  "kernelspec": {
   "display_name": "Python 3",
   "language": "python",
   "name": "python3"
  },
  "language_info": {
   "codemirror_mode": {
    "name": "ipython",
    "version": 3
   },
   "file_extension": ".py",
   "mimetype": "text/x-python",
   "name": "python",
   "nbconvert_exporter": "python",
   "pygments_lexer": "ipython3",
   "version": "3.5.2"
  }
 },
 "nbformat": 4,
 "nbformat_minor": 2
}
