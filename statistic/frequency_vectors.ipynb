{
 "cells": [
  {
   "cell_type": "markdown",
   "metadata": {},
   "source": [
    "# Word frequency per subreddit"
   ]
  },
  {
   "cell_type": "code",
   "execution_count": 35,
   "metadata": {},
   "outputs": [],
   "source": [
    "import pandas as pd\n",
    "import numpy as np\n",
    "import re\n",
    "import pickle"
   ]
  },
  {
   "cell_type": "code",
   "execution_count": 2,
   "metadata": {},
   "outputs": [],
   "source": [
    "data = pd.read_table('data.tsv', header = None)\n",
    "# print(data)\n",
    "labels = pd.read_table('labels.tsv', header = None)\n",
    "# print(labels)\n",
    "full_data = pd.concat([data,labels], axis = 1)\n",
    "full_data.columns =['Data','Labels']"
   ]
  },
  {
   "cell_type": "code",
   "execution_count": 67,
   "metadata": {},
   "outputs": [],
   "source": [
    "# full_data"
   ]
  },
  {
   "cell_type": "code",
   "execution_count": 30,
   "metadata": {},
   "outputs": [],
   "source": [
    "with open('data.tsv') as dt:\n",
    "    samples_list = dt.read().splitlines()\n",
    "# print(len(samples_list))"
   ]
  },
  {
   "cell_type": "code",
   "execution_count": 42,
   "metadata": {},
   "outputs": [],
   "source": [
    "with open('labels.tsv') as lb:\n",
    "    labels_list = lb.read().splitlines()"
   ]
  },
  {
   "cell_type": "code",
   "execution_count": 31,
   "metadata": {},
   "outputs": [],
   "source": [
    "voc_words = []\n",
    "with open('vocab.bpe.from') as voc:\n",
    "    voc_words = voc.read().splitlines()\n",
    "# print(voc_words)"
   ]
  },
  {
   "cell_type": "code",
   "execution_count": 68,
   "metadata": {},
   "outputs": [],
   "source": [
    "voc_dict = {}\n",
    "voc_dict_inv = {}\n",
    "for i, word in enumerate(voc_words):\n",
    "    voc_dict[i] = word\n",
    "    voc_dict_inv[word] = i\n",
    "\n",
    "# print(voc_dict)\n",
    "# print(voc_dict_inv)"
   ]
  },
  {
   "cell_type": "code",
   "execution_count": 69,
   "metadata": {},
   "outputs": [],
   "source": [
    "label_names = set(labels_list)\n",
    "\n",
    "labels_dict = {}\n",
    "labels_dict_inv = {}\n",
    "for i, label_name in enumerate(label_names):\n",
    "    labels_dict[i] = label_name\n",
    "    labels_dict_inv[label_name] = i\n",
    "\n",
    "# print(labels_dict)\n",
    "# print(labels_dict_inv)"
   ]
  },
  {
   "cell_type": "code",
   "execution_count": 58,
   "metadata": {},
   "outputs": [],
   "source": [
    "vocwordsXsubreddits = np.zeros((15003,40))\n",
    "\n",
    "for i, (sample, label) in enumerate(zip(samples_list, labels_list)):\n",
    "    for word in sample.split(' '):\n",
    "        k = voc_dict_inv[word]\n",
    "#         print(k)\n",
    "        l = labels_dict_inv[label]\n",
    "#         print(l)\n",
    "        vocwordsXsubreddits[k,l] += 1        "
   ]
  },
  {
   "cell_type": "code",
   "execution_count": 62,
   "metadata": {},
   "outputs": [],
   "source": [
    "words_per_subreddit = np.sum(vocwordsXsubreddits,axis=0)"
   ]
  },
  {
   "cell_type": "code",
   "execution_count": 64,
   "metadata": {},
   "outputs": [],
   "source": [
    "freqwordsXsubreddits = np.zeros((15003,40))\n",
    "for i in range(40):\n",
    "    freqwordsXsubreddits[:,i] = vocwordsXsubreddits[:,i]/words_per_subreddit[i]"
   ]
  },
  {
   "cell_type": "code",
   "execution_count": 66,
   "metadata": {},
   "outputs": [],
   "source": [
    "with open('frequency_vectors.pickle', 'wb') as h:\n",
    "    pickle.dump(freqwordsXsubreddits, h)"
   ]
  },
  {
   "cell_type": "code",
   "execution_count": null,
   "metadata": {},
   "outputs": [],
   "source": []
  }
 ],
 "metadata": {
  "kernelspec": {
   "display_name": "Python 3",
   "language": "python",
   "name": "python3"
  },
  "language_info": {
   "codemirror_mode": {
    "name": "ipython",
    "version": 3
   },
   "file_extension": ".py",
   "mimetype": "text/x-python",
   "name": "python",
   "nbconvert_exporter": "python",
   "pygments_lexer": "ipython3",
   "version": "3.5.2"
  }
 },
 "nbformat": 4,
 "nbformat_minor": 2
}
